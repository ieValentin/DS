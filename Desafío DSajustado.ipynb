{
 "cells": [
  {
   "cell_type": "code",
   "execution_count": 1,
   "id": "24b38768",
   "metadata": {},
   "outputs": [],
   "source": [
    "# Suprime los warnings\n",
    "import warnings\n",
    "warnings.filterwarnings('ignore')\n",
    "\n",
    "# importing the packages\n",
    "import datetime\n",
    "import warnings\n",
    "import numpy as np\n",
    "import pandas as pd\n",
    "import seaborn as sns\n",
    "from datetime import date\n",
    "import sklearn.exceptions\n",
    "from pylab import rcParams\n",
    "#import plot_functions as pf\n",
    "import matplotlib.pyplot as plt\n",
    "from mlxtend.feature_selection import SequentialFeatureSelector\n",
    "import statsmodels.api as sm\n",
    "from sklearn.metrics import confusion_matrix\n",
    "from sklearn.metrics import plot_confusion_matrix\n",
    "from sklearn.linear_model import LogisticRegression\n",
    "from sklearn import datasets, metrics, preprocessing, svm\n",
    "from sklearn.metrics import precision_recall_fscore_support\n",
    "from sklearn.metrics import classification_report,accuracy_score\n",
    "from sklearn.metrics import roc_auc_score\n",
    "from sklearn.pipeline import Pipeline\n",
    "from sklearn.neural_network import MLPRegressor\n",
    "from sklearn.model_selection import KFold\n",
    "from sklearn.model_selection import RandomizedSearchCV\n",
    "import multiprocessing\n",
    "from sklearn.neural_network import MLPClassifier\n",
    "warnings.filterwarnings(\"ignore\", category=sklearn.exceptions.UndefinedMetricWarning)\n",
    "\n",
    "from sklearn.ensemble import RandomForestClassifier"
   ]
  },
  {
   "cell_type": "code",
   "execution_count": 2,
   "id": "5df6d039",
   "metadata": {
    "scrolled": false
   },
   "outputs": [
    {
     "data": {
      "text/html": [
       "<div>\n",
       "<style scoped>\n",
       "    .dataframe tbody tr th:only-of-type {\n",
       "        vertical-align: middle;\n",
       "    }\n",
       "\n",
       "    .dataframe tbody tr th {\n",
       "        vertical-align: top;\n",
       "    }\n",
       "\n",
       "    .dataframe thead th {\n",
       "        text-align: right;\n",
       "    }\n",
       "</style>\n",
       "<table border=\"1\" class=\"dataframe\">\n",
       "  <thead>\n",
       "    <tr style=\"text-align: right;\">\n",
       "      <th></th>\n",
       "      <th>x1</th>\n",
       "      <th>x2</th>\n",
       "      <th>x3</th>\n",
       "      <th>x4</th>\n",
       "      <th>x5</th>\n",
       "      <th>x6</th>\n",
       "      <th>x7</th>\n",
       "      <th>x8</th>\n",
       "      <th>target</th>\n",
       "    </tr>\n",
       "  </thead>\n",
       "  <tbody>\n",
       "    <tr>\n",
       "      <th>0</th>\n",
       "      <td>50.1341</td>\n",
       "      <td>-326.0000</td>\n",
       "      <td>SAT</td>\n",
       "      <td>MZBER</td>\n",
       "      <td>0</td>\n",
       "      <td>0</td>\n",
       "      <td>6</td>\n",
       "      <td>-6.5</td>\n",
       "      <td>0</td>\n",
       "    </tr>\n",
       "    <tr>\n",
       "      <th>1</th>\n",
       "      <td>50.1341</td>\n",
       "      <td>-326.0000</td>\n",
       "      <td>SAT</td>\n",
       "      <td>MZBER</td>\n",
       "      <td>0</td>\n",
       "      <td>0</td>\n",
       "      <td>6</td>\n",
       "      <td>-4.5</td>\n",
       "      <td>0</td>\n",
       "    </tr>\n",
       "    <tr>\n",
       "      <th>2</th>\n",
       "      <td>124.3276</td>\n",
       "      <td>-275.1935</td>\n",
       "      <td>LCV</td>\n",
       "      <td>MZBER</td>\n",
       "      <td>0</td>\n",
       "      <td>0</td>\n",
       "      <td>3</td>\n",
       "      <td>-2.5</td>\n",
       "      <td>0</td>\n",
       "    </tr>\n",
       "    <tr>\n",
       "      <th>3</th>\n",
       "      <td>50.1341</td>\n",
       "      <td>-326.0000</td>\n",
       "      <td>SAT</td>\n",
       "      <td>MZBER</td>\n",
       "      <td>0</td>\n",
       "      <td>0</td>\n",
       "      <td>3</td>\n",
       "      <td>-4.5</td>\n",
       "      <td>0</td>\n",
       "    </tr>\n",
       "    <tr>\n",
       "      <th>4</th>\n",
       "      <td>85.3905</td>\n",
       "      <td>-298.8632</td>\n",
       "      <td>XJB</td>\n",
       "      <td>MZBER</td>\n",
       "      <td>0</td>\n",
       "      <td>0</td>\n",
       "      <td>5</td>\n",
       "      <td>-4.5</td>\n",
       "      <td>0</td>\n",
       "    </tr>\n",
       "  </tbody>\n",
       "</table>\n",
       "</div>"
      ],
      "text/plain": [
       "         x1        x2   x3     x4  x5  x6  x7   x8  target\n",
       "0   50.1341 -326.0000  SAT  MZBER   0   0   6 -6.5       0\n",
       "1   50.1341 -326.0000  SAT  MZBER   0   0   6 -4.5       0\n",
       "2  124.3276 -275.1935  LCV  MZBER   0   0   3 -2.5       0\n",
       "3   50.1341 -326.0000  SAT  MZBER   0   0   3 -4.5       0\n",
       "4   85.3905 -298.8632  XJB  MZBER   0   0   5 -4.5       0"
      ]
     },
     "execution_count": 2,
     "metadata": {},
     "output_type": "execute_result"
    }
   ],
   "source": [
    "df = pd.read_csv(\"C:/Users/56957/Desktop/Python/dataset_Caso_1.csv\",sep=\",\")\n",
    "df.head()"
   ]
  },
  {
   "cell_type": "code",
   "execution_count": 3,
   "id": "121457bb",
   "metadata": {
    "scrolled": false
   },
   "outputs": [
    {
     "name": "stdout",
     "output_type": "stream",
     "text": [
      "<class 'pandas.core.frame.DataFrame'>\n",
      "RangeIndex: 2000 entries, 0 to 1999\n",
      "Data columns (total 9 columns):\n",
      " #   Column  Non-Null Count  Dtype  \n",
      "---  ------  --------------  -----  \n",
      " 0   x1      2000 non-null   float64\n",
      " 1   x2      2000 non-null   float64\n",
      " 2   x3      2000 non-null   object \n",
      " 3   x4      2000 non-null   object \n",
      " 4   x5      2000 non-null   int64  \n",
      " 5   x6      2000 non-null   int64  \n",
      " 6   x7      2000 non-null   int64  \n",
      " 7   x8      2000 non-null   float64\n",
      " 8   target  2000 non-null   int64  \n",
      "dtypes: float64(3), int64(4), object(2)\n",
      "memory usage: 140.8+ KB\n"
     ]
    }
   ],
   "source": [
    "df.info()"
   ]
  },
  {
   "cell_type": "code",
   "execution_count": 4,
   "id": "d099e9b5",
   "metadata": {},
   "outputs": [
    {
     "data": {
      "text/plain": [
       "0    1978\n",
       "1      22\n",
       "Name: target, dtype: int64"
      ]
     },
     "execution_count": 4,
     "metadata": {},
     "output_type": "execute_result"
    }
   ],
   "source": [
    "df[\"target\"].value_counts()"
   ]
  },
  {
   "cell_type": "markdown",
   "id": "9b2a27e5",
   "metadata": {},
   "source": [
    "Como vemos, los datos están sesgados, es decir, el número de muestras para la clase 1 es inferior al 0,5 % de las muestras de la clase 0. En este caso, los algoritmos de aprendizaje automático no predicen correctamente los casos, por lo que habrá que utilizar métodos para manejar el desequilibrio de los datos."
   ]
  },
  {
   "cell_type": "markdown",
   "id": "ee21ac8d",
   "metadata": {},
   "source": [
    "**Análisis Exploratorio**"
   ]
  },
  {
   "cell_type": "code",
   "execution_count": 5,
   "id": "a69faa23",
   "metadata": {},
   "outputs": [
    {
     "data": {
      "text/html": [
       "<div>\n",
       "<style scoped>\n",
       "    .dataframe tbody tr th:only-of-type {\n",
       "        vertical-align: middle;\n",
       "    }\n",
       "\n",
       "    .dataframe tbody tr th {\n",
       "        vertical-align: top;\n",
       "    }\n",
       "\n",
       "    .dataframe thead th {\n",
       "        text-align: right;\n",
       "    }\n",
       "</style>\n",
       "<table border=\"1\" class=\"dataframe\">\n",
       "  <thead>\n",
       "    <tr style=\"text-align: right;\">\n",
       "      <th></th>\n",
       "      <th>Total</th>\n",
       "      <th>Porcentaje</th>\n",
       "    </tr>\n",
       "  </thead>\n",
       "  <tbody>\n",
       "    <tr>\n",
       "      <th>x1</th>\n",
       "      <td>0</td>\n",
       "      <td>0.0</td>\n",
       "    </tr>\n",
       "    <tr>\n",
       "      <th>x2</th>\n",
       "      <td>0</td>\n",
       "      <td>0.0</td>\n",
       "    </tr>\n",
       "    <tr>\n",
       "      <th>x3</th>\n",
       "      <td>0</td>\n",
       "      <td>0.0</td>\n",
       "    </tr>\n",
       "    <tr>\n",
       "      <th>x4</th>\n",
       "      <td>0</td>\n",
       "      <td>0.0</td>\n",
       "    </tr>\n",
       "    <tr>\n",
       "      <th>x5</th>\n",
       "      <td>0</td>\n",
       "      <td>0.0</td>\n",
       "    </tr>\n",
       "    <tr>\n",
       "      <th>x6</th>\n",
       "      <td>0</td>\n",
       "      <td>0.0</td>\n",
       "    </tr>\n",
       "    <tr>\n",
       "      <th>x7</th>\n",
       "      <td>0</td>\n",
       "      <td>0.0</td>\n",
       "    </tr>\n",
       "    <tr>\n",
       "      <th>x8</th>\n",
       "      <td>0</td>\n",
       "      <td>0.0</td>\n",
       "    </tr>\n",
       "    <tr>\n",
       "      <th>target</th>\n",
       "      <td>0</td>\n",
       "      <td>0.0</td>\n",
       "    </tr>\n",
       "  </tbody>\n",
       "</table>\n",
       "</div>"
      ],
      "text/plain": [
       "        Total  Porcentaje\n",
       "x1          0         0.0\n",
       "x2          0         0.0\n",
       "x3          0         0.0\n",
       "x4          0         0.0\n",
       "x5          0         0.0\n",
       "x6          0         0.0\n",
       "x7          0         0.0\n",
       "x8          0         0.0\n",
       "target      0         0.0"
      ]
     },
     "execution_count": 5,
     "metadata": {},
     "output_type": "execute_result"
    }
   ],
   "source": [
    "## Detección valores missing en data\n",
    "total_missing_df = df.isnull().sum().sort_values(ascending=False)\n",
    "percent_missing_df = round(\n",
    "    (df.isnull().sum().sort_values(ascending=False)/len(df))*100, 2)\n",
    "pd.concat([total_missing_df, percent_missing_df],\n",
    "          axis=1, keys=['Total', 'Porcentaje'])"
   ]
  },
  {
   "cell_type": "code",
   "execution_count": 6,
   "id": "a5a1ef25",
   "metadata": {},
   "outputs": [
    {
     "data": {
      "image/png": "[encoded data removed]",
      "text/plain": [
       "<Figure size 1200x800 with 1 Axes>"
      ]
     },
     "metadata": {},
     "output_type": "display_data"
    }
   ],
   "source": [
    "##Detección de outliers\n",
    "df_t=df.iloc[:,~df.columns.isin(['target','x3','x4'])]\n",
    "fig = plt.figure(figsize=(12, 8))\n",
    "sns.boxplot(data=df_t)\n",
    "plt.show()"
   ]
  },
  {
   "cell_type": "code",
   "execution_count": 7,
   "id": "8bb20192",
   "metadata": {},
   "outputs": [
    {
     "data": {
      "image/png": "[encoded data removed]",
      "text/plain": [
       "<Figure size 1500x1500 with 9 Axes>"
      ]
     },
     "metadata": {},
     "output_type": "display_data"
    }
   ],
   "source": [
    "#visualización de las variables \n",
    "df.hist(figsize = (15, 15))\n",
    "plt.show()"
   ]
  },
  {
   "cell_type": "code",
   "execution_count": 8,
   "id": "82a7e506",
   "metadata": {},
   "outputs": [
    {
     "data": {
      "text/plain": [
       "Text(0.5, 0.98, 'Correlaciones')"
      ]
     },
     "execution_count": 8,
     "metadata": {},
     "output_type": "execute_result"
    },
    {
     "data": {
      "image/png": "[encoded data removed]",
      "text/plain": [
       "<Figure size 1500x600 with 2 Axes>"
      ]
     },
     "metadata": {},
     "output_type": "display_data"
    }
   ],
   "source": [
    "# Correlaciones\n",
    "fig, (ax) = plt.subplots(1, 1, figsize=(15,6))\n",
    "corr =df.iloc[:,~df.columns.isin(['target','x3','x4'])].corr()\n",
    "sns.heatmap(corr,ax = ax,cmap='coolwarm',annot=True,linewidths=0.05)\n",
    "fig.subplots_adjust(top=0.93)\n",
    "fig.suptitle('Correlaciones', fontsize=14,fontweight='bold')"
   ]
  },
  {
   "cell_type": "code",
   "execution_count": 9,
   "id": "c0550b81",
   "metadata": {},
   "outputs": [
    {
     "data": {
      "text/plain": [
       "target    1.000000\n",
       "x5        0.333312\n",
       "x6        0.189463\n",
       "x1        0.030486\n",
       "x8        0.023078\n",
       "x2        0.019244\n",
       "x7        0.011384\n",
       "Name: target, dtype: float64"
      ]
     },
     "execution_count": 9,
     "metadata": {},
     "output_type": "execute_result"
    }
   ],
   "source": [
    "df.corr()['target'].abs().sort_values(ascending=False)"
   ]
  },
  {
   "cell_type": "markdown",
   "id": "f1a61d3c",
   "metadata": {},
   "source": [
    "**Preparación para los Modelos**\n",
    "\n",
    "Es importante estandarizar las variables para que los modelos se ajusten correctamente."
   ]
  },
  {
   "cell_type": "code",
   "execution_count": 10,
   "id": "2e70f760",
   "metadata": {},
   "outputs": [
    {
     "data": {
      "text/plain": [
       "dtype('O')"
      ]
     },
     "execution_count": 10,
     "metadata": {},
     "output_type": "execute_result"
    }
   ],
   "source": [
    "# Convertir el tipo de variable \n",
    "df['x3'] = df['x3'].astype('object')\n",
    "df['x3'].dtype\n",
    "\n",
    "df['x4'] = df['x4'].astype('object')\n",
    "df['x4'].dtype"
   ]
  },
  {
   "cell_type": "code",
   "execution_count": 11,
   "id": "ee5de342",
   "metadata": {},
   "outputs": [],
   "source": [
    "#escalamiento variables cuantitativas\n",
    "import sklearn.preprocessing as preprocessing\n",
    "scaler = preprocessing.StandardScaler()\n",
    "\n",
    "x1_scale = scaler.fit(df['x1'].values.reshape(-1, 1))\n",
    "df['x1_scaled'] = scaler.fit_transform(\n",
    "df['x1'].values.reshape(-1, 1), x1_scale)\n",
    "\n",
    "x2_scale = scaler.fit(df['x2'].values.reshape(-1, 1))\n",
    "df['x2_scaled'] = scaler.fit_transform(\n",
    "df['x2'].values.reshape(-1, 1), x2_scale)\n",
    "\n",
    "x5_scale = scaler.fit(df['x5'].values.reshape(-1, 1))\n",
    "df['x5_scaled'] = scaler.fit_transform(\n",
    "df['x5'].values.reshape(-1, 1), x5_scale)\n",
    "\n",
    "x6_scale = scaler.fit(df['x6'].values.reshape(-1, 1))\n",
    "df['x6_scaled'] = scaler.fit_transform(\n",
    "df['x6'].values.reshape(-1, 1), x6_scale)\n",
    "\n",
    "x7_scale = scaler.fit(df['x7'].values.reshape(-1, 1))\n",
    "df['x7_scaled'] = scaler.fit_transform(\n",
    "df['x7'].values.reshape(-1, 1), x7_scale)\n",
    "\n",
    "x8_scale = scaler.fit(df['x8'].values.reshape(-1, 1))\n",
    "df['x8_scaled'] = scaler.fit_transform(\n",
    "df['x8'].values.reshape(-1, 1), x8_scale)"
   ]
  },
  {
   "cell_type": "code",
   "execution_count": 12,
   "id": "43af6995",
   "metadata": {},
   "outputs": [],
   "source": [
    "#eliminar variables duplicadas\n",
    "df=df.drop(['x1','x2', 'x5','x6' ,'x7', 'x8'], axis=1)"
   ]
  },
  {
   "cell_type": "code",
   "execution_count": 13,
   "id": "8a43d50a",
   "metadata": {
    "scrolled": true
   },
   "outputs": [
    {
     "name": "stdout",
     "output_type": "stream",
     "text": [
      "<class 'pandas.core.frame.DataFrame'>\n",
      "RangeIndex: 2000 entries, 0 to 1999\n",
      "Data columns (total 9 columns):\n",
      " #   Column     Non-Null Count  Dtype  \n",
      "---  ------     --------------  -----  \n",
      " 0   x3         2000 non-null   object \n",
      " 1   x4         2000 non-null   object \n",
      " 2   target     2000 non-null   int64  \n",
      " 3   x1_scaled  2000 non-null   float64\n",
      " 4   x2_scaled  2000 non-null   float64\n",
      " 5   x5_scaled  2000 non-null   float64\n",
      " 6   x6_scaled  2000 non-null   float64\n",
      " 7   x7_scaled  2000 non-null   float64\n",
      " 8   x8_scaled  2000 non-null   float64\n",
      "dtypes: float64(6), int64(1), object(2)\n",
      "memory usage: 140.8+ KB\n"
     ]
    }
   ],
   "source": [
    "df.info()"
   ]
  },
  {
   "cell_type": "markdown",
   "id": "53fc62e1",
   "metadata": {},
   "source": [
    "En el caso de las variables categóricas se utilizará el método One Hot Encoding para otorgar mayor precisión para el modelo."
   ]
  },
  {
   "cell_type": "code",
   "execution_count": 14,
   "id": "98e41312",
   "metadata": {},
   "outputs": [
    {
     "data": {
      "text/plain": [
       "LCV    926\n",
       "SAT    715\n",
       "XJB    280\n",
       "QKP     79\n",
       "Name: x3, dtype: int64"
      ]
     },
     "execution_count": 14,
     "metadata": {},
     "output_type": "execute_result"
    }
   ],
   "source": [
    "pd.value_counts(df[\"x3\"])"
   ]
  },
  {
   "cell_type": "code",
   "execution_count": 15,
   "id": "b4bf7889",
   "metadata": {},
   "outputs": [
    {
     "data": {
      "text/plain": [
       "MZBER    1918\n",
       "YEQA       41\n",
       "PQKE       36\n",
       "ZUQF        5\n",
       "Name: x4, dtype: int64"
      ]
     },
     "execution_count": 15,
     "metadata": {},
     "output_type": "execute_result"
    }
   ],
   "source": [
    "pd.value_counts(df[\"x4\"])"
   ]
  },
  {
   "cell_type": "code",
   "execution_count": 16,
   "id": "93964876",
   "metadata": {},
   "outputs": [
    {
     "data": {
      "text/plain": [
       "['x3', 'x4']"
      ]
     },
     "execution_count": 16,
     "metadata": {},
     "output_type": "execute_result"
    }
   ],
   "source": [
    "# Lista de variables categoricas\n",
    "categorical_features =[feature for feature in df.columns if df[feature].dtypes == 'O']\n",
    "categorical_features"
   ]
  },
  {
   "cell_type": "code",
   "execution_count": 17,
   "id": "b486e852",
   "metadata": {},
   "outputs": [
    {
     "name": "stdout",
     "output_type": "stream",
     "text": [
      "x3\n",
      "x4\n"
     ]
    }
   ],
   "source": [
    "#Función para covertir variables categoricas a one_hot_encodin\n",
    "\n",
    "def category_onehot_multcols(data,multcolumns):\n",
    "    df_final = data\n",
    "    i=0\n",
    "    for fields in multcolumns:\n",
    "        print(fields)\n",
    "        df1=pd.get_dummies(df[fields],drop_first=True)\n",
    "        df.drop([fields],axis=1,inplace=True)\n",
    "        if i==0:\n",
    "            df_final=df1.copy()\n",
    "        else:           \n",
    "            df_final=pd.concat([df_final,df1],axis=1)\n",
    "        i=i+1             \n",
    "    df_final=pd.concat([df,df_final],axis=1)\n",
    "    return df_final\n",
    "\n",
    "    # applying the one hot encoding\n",
    "df = category_onehot_multcols(df, categorical_features)"
   ]
  },
  {
   "cell_type": "code",
   "execution_count": 18,
   "id": "0393a53a",
   "metadata": {},
   "outputs": [
    {
     "data": {
      "text/plain": [
       "(2000, 13)"
      ]
     },
     "execution_count": 18,
     "metadata": {},
     "output_type": "execute_result"
    }
   ],
   "source": [
    "# Dropea variables duplicadas\n",
    "df =df.loc[:,~df.columns.duplicated()]\n",
    "df.shape"
   ]
  },
  {
   "cell_type": "code",
   "execution_count": 19,
   "id": "80fdc19f",
   "metadata": {},
   "outputs": [
    {
     "name": "stdout",
     "output_type": "stream",
     "text": [
      "<class 'pandas.core.frame.DataFrame'>\n",
      "RangeIndex: 2000 entries, 0 to 1999\n",
      "Data columns (total 13 columns):\n",
      " #   Column     Non-Null Count  Dtype  \n",
      "---  ------     --------------  -----  \n",
      " 0   target     2000 non-null   int64  \n",
      " 1   x1_scaled  2000 non-null   float64\n",
      " 2   x2_scaled  2000 non-null   float64\n",
      " 3   x5_scaled  2000 non-null   float64\n",
      " 4   x6_scaled  2000 non-null   float64\n",
      " 5   x7_scaled  2000 non-null   float64\n",
      " 6   x8_scaled  2000 non-null   float64\n",
      " 7   QKP        2000 non-null   uint8  \n",
      " 8   SAT        2000 non-null   uint8  \n",
      " 9   XJB        2000 non-null   uint8  \n",
      " 10  PQKE       2000 non-null   uint8  \n",
      " 11  YEQA       2000 non-null   uint8  \n",
      " 12  ZUQF       2000 non-null   uint8  \n",
      "dtypes: float64(6), int64(1), uint8(6)\n",
      "memory usage: 121.2 KB\n"
     ]
    }
   ],
   "source": [
    "df.info()"
   ]
  },
  {
   "cell_type": "markdown",
   "id": "1400a3ce",
   "metadata": {},
   "source": [
    "**Entrenamiento del Modelo**\n",
    "\n",
    "El Modelo escogido será la Regresión Logística, existen otros métodos de clasificación como Random Forest, SVM, RNA, entre otros, pero dada la baja dimensión de observaciones, estos son más propensos al sobreajuste, lo que entregaría unas estimaciones sesgadas.\n",
    "\n",
    "Inicialmente se ejecutan los modelos con los datos desbalanceados sin aplicar ninguna técnica de sobremuestreo, analizando las métricas de precisión y recall (sensibilidad) ya que como se evidenciará en los resultados, la métrica de accuracy se puede ver sesgada por la clase mayoritaria reflejando buenos resultados que no siempre son reales."
   ]
  },
  {
   "cell_type": "code",
   "execution_count": 20,
   "id": "8a8c8896",
   "metadata": {},
   "outputs": [
    {
     "name": "stdout",
     "output_type": "stream",
     "text": [
      "(2000,)\n",
      "(2000, 12)\n"
     ]
    }
   ],
   "source": [
    "y = df[\"target\"]\n",
    "x = df.drop([\"target\"],axis=1)\n",
    "print(np.shape(y))\n",
    "print(np.shape(x))"
   ]
  },
  {
   "cell_type": "code",
   "execution_count": 21,
   "id": "f3888cbd",
   "metadata": {},
   "outputs": [
    {
     "name": "stdout",
     "output_type": "stream",
     "text": [
      "(1600, 12)\n",
      "(400, 12)\n",
      "(1600,)\n",
      "(400,)\n"
     ]
    }
   ],
   "source": [
    "##Dividimos la data en entrenamiento y test 80% y 20%\n",
    "from sklearn.model_selection import train_test_split\n",
    "df_Train, df_Test, Y_train, Y_test = train_test_split(x,y,test_size=0.2, random_state = 123)\n",
    "print(np.shape(df_Train))\n",
    "print(np.shape(df_Test))\n",
    "print(np.shape(Y_train))\n",
    "print(np.shape(Y_test))"
   ]
  },
  {
   "cell_type": "code",
   "execution_count": 22,
   "id": "a36b0390",
   "metadata": {},
   "outputs": [],
   "source": [
    "# Regresión Logística desbalanceada\n",
    "model_LR = LogisticRegression(random_state=137)\n",
    "model_LR.fit(df_Train,Y_train)\n",
    "y_pred = model_LR.predict(df_Test)"
   ]
  },
  {
   "cell_type": "code",
   "execution_count": 23,
   "id": "67633a4c",
   "metadata": {},
   "outputs": [],
   "source": [
    "#Evaluando los modelos\n",
    "\n",
    "def print_eval(y_pred,model):\n",
    "    print(\"Training Accuracy: \",model.score(df_Train, Y_train))\n",
    "    print(\"Testing Accuracy: \", model.score(df_Test, Y_test))\n",
    "    cm = confusion_matrix(Y_test, y_pred)\n",
    "    print(cm)\n",
    "    print(classification_report(Y_test,y_pred))"
   ]
  },
  {
   "cell_type": "code",
   "execution_count": 24,
   "id": "aaac8a16",
   "metadata": {},
   "outputs": [
    {
     "name": "stdout",
     "output_type": "stream",
     "text": [
      "Training Accuracy:  0.98875\n",
      "Testing Accuracy:  0.995\n",
      "[[397   0]\n",
      " [  2   1]]\n",
      "              precision    recall  f1-score   support\n",
      "\n",
      "           0       0.99      1.00      1.00       397\n",
      "           1       1.00      0.33      0.50         3\n",
      "\n",
      "    accuracy                           0.99       400\n",
      "   macro avg       1.00      0.67      0.75       400\n",
      "weighted avg       1.00      0.99      0.99       400\n",
      "\n"
     ]
    }
   ],
   "source": [
    "# Evaluación Regresión logística con muestras desbalanceadas\n",
    "\n",
    "print_eval(y_pred,model_LR)"
   ]
  },
  {
   "cell_type": "markdown",
   "id": "91e6ab28",
   "metadata": {},
   "source": [
    "Se puede apreciar que el modelo esta sesgado, sobreajustado con un recall ínfimo. Para mejorar el modelo se utilizarán las técnicas de Oversampling y SMOTE. Debido a la baja dimensión de la clase 1, no se utilizará Undersampling ni Nearmiss.\n",
    "\n",
    "Antes de balancear la muestra se verificará si existe Colinealidad entre las variables."
   ]
  },
  {
   "cell_type": "code",
   "execution_count": 25,
   "id": "001e15f8",
   "metadata": {},
   "outputs": [],
   "source": [
    "from statsmodels.stats.outliers_influence import variance_inflation_factor\n",
    "vif_scores=pd.DataFrame()\n",
    "vif_scores[\"Feature\"]=df.columns"
   ]
  },
  {
   "cell_type": "code",
   "execution_count": 26,
   "id": "e806eb16",
   "metadata": {},
   "outputs": [
    {
     "data": {
      "text/html": [
       "<div>\n",
       "<style scoped>\n",
       "    .dataframe tbody tr th:only-of-type {\n",
       "        vertical-align: middle;\n",
       "    }\n",
       "\n",
       "    .dataframe tbody tr th {\n",
       "        vertical-align: top;\n",
       "    }\n",
       "\n",
       "    .dataframe thead th {\n",
       "        text-align: right;\n",
       "    }\n",
       "</style>\n",
       "<table border=\"1\" class=\"dataframe\">\n",
       "  <thead>\n",
       "    <tr style=\"text-align: right;\">\n",
       "      <th></th>\n",
       "      <th>Feature</th>\n",
       "      <th>Vif Scores</th>\n",
       "    </tr>\n",
       "  </thead>\n",
       "  <tbody>\n",
       "    <tr>\n",
       "      <th>0</th>\n",
       "      <td>target</td>\n",
       "      <td>1.176295</td>\n",
       "    </tr>\n",
       "    <tr>\n",
       "      <th>1</th>\n",
       "      <td>x1_scaled</td>\n",
       "      <td>1.351996</td>\n",
       "    </tr>\n",
       "    <tr>\n",
       "      <th>2</th>\n",
       "      <td>x2_scaled</td>\n",
       "      <td>1.393785</td>\n",
       "    </tr>\n",
       "    <tr>\n",
       "      <th>3</th>\n",
       "      <td>x5_scaled</td>\n",
       "      <td>1.159081</td>\n",
       "    </tr>\n",
       "    <tr>\n",
       "      <th>4</th>\n",
       "      <td>x6_scaled</td>\n",
       "      <td>1.053977</td>\n",
       "    </tr>\n",
       "    <tr>\n",
       "      <th>5</th>\n",
       "      <td>x7_scaled</td>\n",
       "      <td>1.122070</td>\n",
       "    </tr>\n",
       "    <tr>\n",
       "      <th>6</th>\n",
       "      <td>x8_scaled</td>\n",
       "      <td>1.151786</td>\n",
       "    </tr>\n",
       "    <tr>\n",
       "      <th>7</th>\n",
       "      <td>QKP</td>\n",
       "      <td>1.097945</td>\n",
       "    </tr>\n",
       "    <tr>\n",
       "      <th>8</th>\n",
       "      <td>SAT</td>\n",
       "      <td>1.065184</td>\n",
       "    </tr>\n",
       "    <tr>\n",
       "      <th>9</th>\n",
       "      <td>XJB</td>\n",
       "      <td>1.073111</td>\n",
       "    </tr>\n",
       "    <tr>\n",
       "      <th>10</th>\n",
       "      <td>PQKE</td>\n",
       "      <td>1.097250</td>\n",
       "    </tr>\n",
       "    <tr>\n",
       "      <th>11</th>\n",
       "      <td>YEQA</td>\n",
       "      <td>1.100218</td>\n",
       "    </tr>\n",
       "    <tr>\n",
       "      <th>12</th>\n",
       "      <td>ZUQF</td>\n",
       "      <td>1.018050</td>\n",
       "    </tr>\n",
       "  </tbody>\n",
       "</table>\n",
       "</div>"
      ],
      "text/plain": [
       "      Feature  Vif Scores\n",
       "0      target    1.176295\n",
       "1   x1_scaled    1.351996\n",
       "2   x2_scaled    1.393785\n",
       "3   x5_scaled    1.159081\n",
       "4   x6_scaled    1.053977\n",
       "5   x7_scaled    1.122070\n",
       "6   x8_scaled    1.151786\n",
       "7         QKP    1.097945\n",
       "8         SAT    1.065184\n",
       "9         XJB    1.073111\n",
       "10       PQKE    1.097250\n",
       "11       YEQA    1.100218\n",
       "12       ZUQF    1.018050"
      ]
     },
     "metadata": {},
     "output_type": "display_data"
    }
   ],
   "source": [
    "vif_scores[\"Vif Scores\"]=[variance_inflation_factor(df.values, i) for i in range(len(df.columns))]\n",
    "display(vif_scores)"
   ]
  },
  {
   "cell_type": "markdown",
   "id": "09a45716",
   "metadata": {},
   "source": [
    "**OVERSAMPLING**\n",
    "\n",
    "Este método no produce pérdida de información pero si es propenso al sobreajuste ya que replica los eventos de la clase minoritaria"
   ]
  },
  {
   "cell_type": "code",
   "execution_count": 27,
   "id": "aee9b7e1",
   "metadata": {},
   "outputs": [
    {
     "name": "stdout",
     "output_type": "stream",
     "text": [
      "(1600,) (1600, 12)\n"
     ]
    },
    {
     "data": {
      "text/plain": [
       "(1600, 13)"
      ]
     },
     "execution_count": 27,
     "metadata": {},
     "output_type": "execute_result"
    }
   ],
   "source": [
    "#Agrega la variable dependiente al train dataset\n",
    "print(Y_train.shape,df_Train.shape)\n",
    "df_train = pd.concat([df_Train,Y_train],axis = 1)\n",
    "df_train.shape"
   ]
  },
  {
   "cell_type": "code",
   "execution_count": 28,
   "id": "37860b84",
   "metadata": {},
   "outputs": [
    {
     "name": "stdout",
     "output_type": "stream",
     "text": [
      "1581 19\n",
      "(1581, 13) (19, 13)\n"
     ]
    }
   ],
   "source": [
    "# contador de clase\n",
    "count_class_0, count_class_1 = df_train.target.value_counts()\n",
    "print(count_class_0, count_class_1)\n",
    "# Divide por clase\n",
    "df_class_0 = df_train[df_train['target'] == 0]\n",
    "df_class_1 = df_train[df_train['target'] == 1]\n",
    "print(df_class_0.shape,df_class_1.shape)"
   ]
  },
  {
   "cell_type": "code",
   "execution_count": 29,
   "id": "f3ee2728",
   "metadata": {},
   "outputs": [
    {
     "name": "stdout",
     "output_type": "stream",
     "text": [
      "Random over-sampling:\n",
      "0    1581\n",
      "1    1581\n",
      "Name: target, dtype: int64\n"
     ]
    }
   ],
   "source": [
    "# Oversample \n",
    "df_class_1_over = df_class_1.sample(count_class_0,replace=True,random_state=12)\n",
    "df_train_over_sample = pd.concat([df_class_0, df_class_1_over], axis=0)\n",
    "\n",
    "print('Random over-sampling:')\n",
    "\n",
    "print(df_train_over_sample.target.value_counts())"
   ]
  },
  {
   "cell_type": "code",
   "execution_count": 30,
   "id": "4072bdf7",
   "metadata": {},
   "outputs": [],
   "source": [
    "X = df_train_over_sample.drop('target',axis='columns')\n",
    "y = df_train_over_sample['target']"
   ]
  },
  {
   "cell_type": "code",
   "execution_count": 31,
   "id": "2f96f84d",
   "metadata": {},
   "outputs": [
    {
     "name": "stdout",
     "output_type": "stream",
     "text": [
      "Training Accuracy:  0.8925\n",
      "Testing Accuracy:  0.895\n",
      "[[356  41]\n",
      " [  1   2]]\n",
      "              precision    recall  f1-score   support\n",
      "\n",
      "           0       1.00      0.90      0.94       397\n",
      "           1       0.05      0.67      0.09         3\n",
      "\n",
      "    accuracy                           0.90       400\n",
      "   macro avg       0.52      0.78      0.52       400\n",
      "weighted avg       0.99      0.90      0.94       400\n",
      "\n"
     ]
    },
    {
     "data": {
      "text/plain": [
       "0.781696053736356"
      ]
     },
     "execution_count": 31,
     "metadata": {},
     "output_type": "execute_result"
    }
   ],
   "source": [
    "model_LR_over_sample = LogisticRegression(random_state=1)\n",
    "model_LR_over_sample.fit(X,y)\n",
    "y_pred = model_LR_over_sample.predict(df_Test)\n",
    "print_eval(y_pred,model_LR_over_sample)\n",
    "roc_auc_score(Y_test, y_pred)"
   ]
  },
  {
   "cell_type": "markdown",
   "id": "da209610",
   "metadata": {},
   "source": [
    "**MUESTREO SMOTE**\n",
    "\n",
    "El algoritmo SMOTE funciona en 4 sencillos pasos:\n",
    "\n",
    "Elija una clase minoritaria como vector de entrada.\n",
    "\n",
    "Encuentra sus k vecinos más cercanos (k_neighbors se especifica como un argumento en la función SMOTE(), el valor predeterminado es 5).\n",
    "\n",
    "Elija uno de estos vecinos y coloque un punto sintético en cualquier lugar de la línea que une el punto en consideración y su vecino elegido.\n",
    "\n",
    "Repita los pasos hasta que los datos estén equilibrados.\n",
    "\n",
    "Ventajas\n",
    "\n",
    "Mitiga el problema del sobreajuste causado por el sobremuestreo aleatorio, ya que se generan ejemplos sintéticos en lugar de la replicación de instancias. Sin pérdida de información útil.\n",
    "\n",
    "Desventajas\n",
    "\n",
    "Al generar ejemplos sintéticos, SMOTE no tiene en cuenta los ejemplos vecinos de otras clases. Esto puede dar como resultado un aumento en la superposición de clases y puede introducir ruido adicional. SMOTE no es muy efectivo para datos de alta dimensión"
   ]
  },
  {
   "cell_type": "code",
   "execution_count": 32,
   "id": "4352f56b",
   "metadata": {},
   "outputs": [
    {
     "name": "stdout",
     "output_type": "stream",
     "text": [
      "(1600, 12) (400, 12)\n"
     ]
    }
   ],
   "source": [
    "print(df_Train.shape,df_Test.shape)"
   ]
  },
  {
   "cell_type": "code",
   "execution_count": 33,
   "id": "ca0a28ba",
   "metadata": {},
   "outputs": [
    {
     "data": {
      "text/plain": [
       "0    1581\n",
       "1    1581\n",
       "Name: target, dtype: int64"
      ]
     },
     "execution_count": 33,
     "metadata": {},
     "output_type": "execute_result"
    }
   ],
   "source": [
    "# smote\n",
    "from imblearn.over_sampling import SMOTE\n",
    "smote = SMOTE(sampling_strategy = 'minority',random_state=1)\n",
    "X_sm, y_sm = smote.fit_resample(df_Train, Y_train)\n",
    "y_sm.value_counts()"
   ]
  },
  {
   "cell_type": "code",
   "execution_count": 34,
   "id": "fa4904cf",
   "metadata": {
    "scrolled": true
   },
   "outputs": [
    {
     "name": "stdout",
     "output_type": "stream",
     "text": [
      "Training Accuracy:  0.836875\n",
      "Testing Accuracy:  0.7925\n",
      "[[315  82]\n",
      " [  1   2]]\n",
      "              precision    recall  f1-score   support\n",
      "\n",
      "           0       1.00      0.79      0.88       397\n",
      "           1       0.02      0.67      0.05         3\n",
      "\n",
      "    accuracy                           0.79       400\n",
      "   macro avg       0.51      0.73      0.46       400\n",
      "weighted avg       0.99      0.79      0.88       400\n",
      "\n"
     ]
    },
    {
     "data": {
      "text/plain": [
       "0.7300587741393786"
      ]
     },
     "execution_count": 34,
     "metadata": {},
     "output_type": "execute_result"
    }
   ],
   "source": [
    "model_LR_smote = LogisticRegression(random_state=137)\n",
    "model_LR_smote.fit(X_sm,y_sm)\n",
    "y_pred = model_LR_smote.predict(df_Test)\n",
    "print_eval(y_pred,model_LR_smote)\n",
    "roc_auc_score(Y_test, y_pred)"
   ]
  },
  {
   "cell_type": "markdown",
   "id": "ad5071ff",
   "metadata": {},
   "source": [
    "**Red Neuronal Artificial (RNA)**"
   ]
  },
  {
   "cell_type": "code",
   "execution_count": 35,
   "id": "c9d47c23",
   "metadata": {},
   "outputs": [
    {
     "data": {
      "text/html": [
       "<div>\n",
       "<style scoped>\n",
       "    .dataframe tbody tr th:only-of-type {\n",
       "        vertical-align: middle;\n",
       "    }\n",
       "\n",
       "    .dataframe tbody tr th {\n",
       "        vertical-align: top;\n",
       "    }\n",
       "\n",
       "    .dataframe thead th {\n",
       "        text-align: right;\n",
       "    }\n",
       "</style>\n",
       "<table border=\"1\" class=\"dataframe\">\n",
       "  <thead>\n",
       "    <tr style=\"text-align: right;\">\n",
       "      <th></th>\n",
       "      <th>param_modelo__learning_rate_init</th>\n",
       "      <th>param_modelo__hidden_layer_sizes</th>\n",
       "      <th>param_modelo__alpha</th>\n",
       "      <th>mean_test_score</th>\n",
       "      <th>std_test_score</th>\n",
       "      <th>mean_train_score</th>\n",
       "      <th>std_train_score</th>\n",
       "    </tr>\n",
       "  </thead>\n",
       "  <tbody>\n",
       "    <tr>\n",
       "      <th>0</th>\n",
       "      <td>0.001</td>\n",
       "      <td>10</td>\n",
       "      <td>0.464159</td>\n",
       "      <td>-0.011250</td>\n",
       "      <td>0.001531</td>\n",
       "      <td>-0.011094</td>\n",
       "      <td>0.000585</td>\n",
       "    </tr>\n",
       "    <tr>\n",
       "      <th>44</th>\n",
       "      <td>0.01</td>\n",
       "      <td>10</td>\n",
       "      <td>0.464159</td>\n",
       "      <td>-0.011250</td>\n",
       "      <td>0.001531</td>\n",
       "      <td>-0.011094</td>\n",
       "      <td>0.000585</td>\n",
       "    </tr>\n",
       "    <tr>\n",
       "      <th>33</th>\n",
       "      <td>0.01</td>\n",
       "      <td>(10, 10)</td>\n",
       "      <td>2.154435</td>\n",
       "      <td>-0.011875</td>\n",
       "      <td>0.001250</td>\n",
       "      <td>-0.011875</td>\n",
       "      <td>0.000313</td>\n",
       "    </tr>\n",
       "    <tr>\n",
       "      <th>23</th>\n",
       "      <td>0.01</td>\n",
       "      <td>20</td>\n",
       "      <td>215.443469</td>\n",
       "      <td>-0.011875</td>\n",
       "      <td>0.001250</td>\n",
       "      <td>-0.011875</td>\n",
       "      <td>0.000313</td>\n",
       "    </tr>\n",
       "    <tr>\n",
       "      <th>1</th>\n",
       "      <td>0.01</td>\n",
       "      <td>20</td>\n",
       "      <td>10.0</td>\n",
       "      <td>-0.011875</td>\n",
       "      <td>0.001250</td>\n",
       "      <td>-0.011875</td>\n",
       "      <td>0.000313</td>\n",
       "    </tr>\n",
       "    <tr>\n",
       "      <th>27</th>\n",
       "      <td>0.001</td>\n",
       "      <td>20</td>\n",
       "      <td>215.443469</td>\n",
       "      <td>-0.011875</td>\n",
       "      <td>0.001250</td>\n",
       "      <td>-0.011875</td>\n",
       "      <td>0.000313</td>\n",
       "    </tr>\n",
       "    <tr>\n",
       "      <th>28</th>\n",
       "      <td>0.01</td>\n",
       "      <td>(10, 10)</td>\n",
       "      <td>0.464159</td>\n",
       "      <td>-0.011875</td>\n",
       "      <td>0.001250</td>\n",
       "      <td>-0.011094</td>\n",
       "      <td>0.000585</td>\n",
       "    </tr>\n",
       "    <tr>\n",
       "      <th>29</th>\n",
       "      <td>0.01</td>\n",
       "      <td>20</td>\n",
       "      <td>1000.0</td>\n",
       "      <td>-0.011875</td>\n",
       "      <td>0.001250</td>\n",
       "      <td>-0.011875</td>\n",
       "      <td>0.000313</td>\n",
       "    </tr>\n",
       "    <tr>\n",
       "      <th>30</th>\n",
       "      <td>0.01</td>\n",
       "      <td>10</td>\n",
       "      <td>10.0</td>\n",
       "      <td>-0.011875</td>\n",
       "      <td>0.001250</td>\n",
       "      <td>-0.011875</td>\n",
       "      <td>0.000313</td>\n",
       "    </tr>\n",
       "    <tr>\n",
       "      <th>31</th>\n",
       "      <td>0.001</td>\n",
       "      <td>10</td>\n",
       "      <td>215.443469</td>\n",
       "      <td>-0.011875</td>\n",
       "      <td>0.001250</td>\n",
       "      <td>-0.011875</td>\n",
       "      <td>0.000313</td>\n",
       "    </tr>\n",
       "  </tbody>\n",
       "</table>\n",
       "</div>"
      ],
      "text/plain": [
       "   param_modelo__learning_rate_init param_modelo__hidden_layer_sizes  \\\n",
       "0                             0.001                               10   \n",
       "44                             0.01                               10   \n",
       "33                             0.01                         (10, 10)   \n",
       "23                             0.01                               20   \n",
       "1                              0.01                               20   \n",
       "27                            0.001                               20   \n",
       "28                             0.01                         (10, 10)   \n",
       "29                             0.01                               20   \n",
       "30                             0.01                               10   \n",
       "31                            0.001                               10   \n",
       "\n",
       "   param_modelo__alpha  mean_test_score  std_test_score  mean_train_score  \\\n",
       "0             0.464159        -0.011250        0.001531         -0.011094   \n",
       "44            0.464159        -0.011250        0.001531         -0.011094   \n",
       "33            2.154435        -0.011875        0.001250         -0.011875   \n",
       "23          215.443469        -0.011875        0.001250         -0.011875   \n",
       "1                 10.0        -0.011875        0.001250         -0.011875   \n",
       "27          215.443469        -0.011875        0.001250         -0.011875   \n",
       "28            0.464159        -0.011875        0.001250         -0.011094   \n",
       "29              1000.0        -0.011875        0.001250         -0.011875   \n",
       "30                10.0        -0.011875        0.001250         -0.011875   \n",
       "31          215.443469        -0.011875        0.001250         -0.011875   \n",
       "\n",
       "    std_train_score  \n",
       "0          0.000585  \n",
       "44         0.000585  \n",
       "33         0.000313  \n",
       "23         0.000313  \n",
       "1          0.000313  \n",
       "27         0.000313  \n",
       "28         0.000585  \n",
       "29         0.000313  \n",
       "30         0.000313  \n",
       "31         0.000313  "
      ]
     },
     "execution_count": 35,
     "metadata": {},
     "output_type": "execute_result"
    }
   ],
   "source": [
    "pipe = Pipeline([('modelo', MLPClassifier(activation='logistic',solver = 'lbfgs',random_state=123, max_iter= 1000))])\n",
    "# Espacio de búsqueda de cada hiperparámetro\n",
    "# ==============================================================================\n",
    "param_distributions = {\n",
    "    'modelo__hidden_layer_sizes': [(10), (20), (10, 10)],\n",
    "    'modelo__alpha': np.logspace(-3, 3, 10),\n",
    "    'modelo__learning_rate_init': [0.001, 0.01],\n",
    "}\n",
    "\n",
    "# Búsqueda por validación cruzada\n",
    "# ==============================================================================\n",
    "grid = RandomizedSearchCV(\n",
    "        estimator  = pipe,\n",
    "        param_distributions = param_distributions,\n",
    "        n_iter     = 50,\n",
    "        scoring    = 'neg_mean_squared_error',\n",
    "        n_jobs     = multiprocessing.cpu_count() - 1,\n",
    "        cv         = 5, \n",
    "        verbose    = 0,\n",
    "        random_state = 123,\n",
    "        return_train_score = True\n",
    "       )\n",
    "\n",
    "grid.fit(X = df_Train, y = Y_train)\n",
    "\n",
    "# Resultados del grid\n",
    "# ==============================================================================\n",
    "resultados = pd.DataFrame(grid.cv_results_)\n",
    "resultados.filter(regex = '(param.*|mean_t|std_t)')\\\n",
    "    .drop(columns = 'params')\\\n",
    "    .sort_values('mean_test_score', ascending = False)\\\n",
    "    .head(10)"
   ]
  },
  {
   "cell_type": "code",
   "execution_count": 36,
   "id": "c8ab770e",
   "metadata": {},
   "outputs": [
    {
     "name": "stdout",
     "output_type": "stream",
     "text": [
      "Error de test (rmse):  0.07071067811865475\n"
     ]
    }
   ],
   "source": [
    "from sklearn.metrics import mean_squared_error\n",
    "# Error de test\n",
    "# ==============================================================================\n",
    "modelo_final = grid.best_estimator_\n",
    "predicciones = modelo_final.predict(X = df_Test)\n",
    "rmse = mean_squared_error(\n",
    "        y_true = Y_test,\n",
    "        y_pred = predicciones,\n",
    "        squared = False\n",
    "       )\n",
    "print('Error de test (rmse): ', rmse)"
   ]
  },
  {
   "cell_type": "code",
   "execution_count": 37,
   "id": "631ecc21",
   "metadata": {},
   "outputs": [
    {
     "data": {
      "text/plain": [
       "{'activation': 'logistic',\n",
       " 'alpha': 0.46415888336127775,\n",
       " 'batch_size': 'auto',\n",
       " 'beta_1': 0.9,\n",
       " 'beta_2': 0.999,\n",
       " 'early_stopping': False,\n",
       " 'epsilon': 1e-08,\n",
       " 'hidden_layer_sizes': 10,\n",
       " 'learning_rate': 'constant',\n",
       " 'learning_rate_init': 0.001,\n",
       " 'max_fun': 15000,\n",
       " 'max_iter': 1000,\n",
       " 'momentum': 0.9,\n",
       " 'n_iter_no_change': 10,\n",
       " 'nesterovs_momentum': True,\n",
       " 'power_t': 0.5,\n",
       " 'random_state': 123,\n",
       " 'shuffle': True,\n",
       " 'solver': 'lbfgs',\n",
       " 'tol': 0.0001,\n",
       " 'validation_fraction': 0.1,\n",
       " 'verbose': False,\n",
       " 'warm_start': False}"
      ]
     },
     "execution_count": 37,
     "metadata": {},
     "output_type": "execute_result"
    }
   ],
   "source": [
    "modelo_final['modelo'].get_params()"
   ]
  },
  {
   "cell_type": "code",
   "execution_count": 38,
   "id": "2ddc08c6",
   "metadata": {},
   "outputs": [
    {
     "name": "stdout",
     "output_type": "stream",
     "text": [
      "Training Accuracy:  0.98875\n",
      "Testing Accuracy:  0.995\n",
      "[[397   0]\n",
      " [  2   1]]\n",
      "              precision    recall  f1-score   support\n",
      "\n",
      "           0       0.99      1.00      1.00       397\n",
      "           1       1.00      0.33      0.50         3\n",
      "\n",
      "    accuracy                           0.99       400\n",
      "   macro avg       1.00      0.67      0.75       400\n",
      "weighted avg       1.00      0.99      0.99       400\n",
      "\n"
     ]
    },
    {
     "data": {
      "text/plain": [
       "0.6666666666666666"
      ]
     },
     "execution_count": 38,
     "metadata": {},
     "output_type": "execute_result"
    }
   ],
   "source": [
    "y_pred = modelo_final.predict(df_Test)\n",
    "print_eval(y_pred,modelo_final)\n",
    "roc_auc_score(Y_test, y_pred)"
   ]
  },
  {
   "cell_type": "markdown",
   "id": "f45d8914",
   "metadata": {},
   "source": [
    "Oversampling RNA"
   ]
  },
  {
   "cell_type": "code",
   "execution_count": 39,
   "id": "255e00ea",
   "metadata": {},
   "outputs": [
    {
     "data": {
      "text/html": [
       "<div>\n",
       "<style scoped>\n",
       "    .dataframe tbody tr th:only-of-type {\n",
       "        vertical-align: middle;\n",
       "    }\n",
       "\n",
       "    .dataframe tbody tr th {\n",
       "        vertical-align: top;\n",
       "    }\n",
       "\n",
       "    .dataframe thead th {\n",
       "        text-align: right;\n",
       "    }\n",
       "</style>\n",
       "<table border=\"1\" class=\"dataframe\">\n",
       "  <thead>\n",
       "    <tr style=\"text-align: right;\">\n",
       "      <th></th>\n",
       "      <th>param_modelo__learning_rate_init</th>\n",
       "      <th>param_modelo__hidden_layer_sizes</th>\n",
       "      <th>param_modelo__alpha</th>\n",
       "      <th>mean_test_score</th>\n",
       "      <th>std_test_score</th>\n",
       "      <th>mean_train_score</th>\n",
       "      <th>std_train_score</th>\n",
       "    </tr>\n",
       "  </thead>\n",
       "  <tbody>\n",
       "    <tr>\n",
       "      <th>47</th>\n",
       "      <td>0.01</td>\n",
       "      <td>20</td>\n",
       "      <td>0.004642</td>\n",
       "      <td>-0.008221</td>\n",
       "      <td>0.003922</td>\n",
       "      <td>-0.000079</td>\n",
       "      <td>0.000158</td>\n",
       "    </tr>\n",
       "    <tr>\n",
       "      <th>19</th>\n",
       "      <td>0.001</td>\n",
       "      <td>20</td>\n",
       "      <td>0.004642</td>\n",
       "      <td>-0.008221</td>\n",
       "      <td>0.003922</td>\n",
       "      <td>-0.000079</td>\n",
       "      <td>0.000158</td>\n",
       "    </tr>\n",
       "    <tr>\n",
       "      <th>37</th>\n",
       "      <td>0.01</td>\n",
       "      <td>20</td>\n",
       "      <td>0.001</td>\n",
       "      <td>-0.008539</td>\n",
       "      <td>0.002368</td>\n",
       "      <td>-0.001265</td>\n",
       "      <td>0.000767</td>\n",
       "    </tr>\n",
       "    <tr>\n",
       "      <th>14</th>\n",
       "      <td>0.01</td>\n",
       "      <td>(10, 10)</td>\n",
       "      <td>0.004642</td>\n",
       "      <td>-0.010120</td>\n",
       "      <td>0.005708</td>\n",
       "      <td>-0.002688</td>\n",
       "      <td>0.002038</td>\n",
       "    </tr>\n",
       "    <tr>\n",
       "      <th>17</th>\n",
       "      <td>0.001</td>\n",
       "      <td>(10, 10)</td>\n",
       "      <td>0.004642</td>\n",
       "      <td>-0.010120</td>\n",
       "      <td>0.005708</td>\n",
       "      <td>-0.002688</td>\n",
       "      <td>0.002038</td>\n",
       "    </tr>\n",
       "    <tr>\n",
       "      <th>20</th>\n",
       "      <td>0.001</td>\n",
       "      <td>10</td>\n",
       "      <td>0.021544</td>\n",
       "      <td>-0.010434</td>\n",
       "      <td>0.003941</td>\n",
       "      <td>-0.001977</td>\n",
       "      <td>0.000433</td>\n",
       "    </tr>\n",
       "    <tr>\n",
       "      <th>9</th>\n",
       "      <td>0.01</td>\n",
       "      <td>10</td>\n",
       "      <td>0.021544</td>\n",
       "      <td>-0.010434</td>\n",
       "      <td>0.003941</td>\n",
       "      <td>-0.001977</td>\n",
       "      <td>0.000433</td>\n",
       "    </tr>\n",
       "    <tr>\n",
       "      <th>2</th>\n",
       "      <td>0.01</td>\n",
       "      <td>20</td>\n",
       "      <td>0.021544</td>\n",
       "      <td>-0.011384</td>\n",
       "      <td>0.002321</td>\n",
       "      <td>-0.001028</td>\n",
       "      <td>0.000592</td>\n",
       "    </tr>\n",
       "    <tr>\n",
       "      <th>42</th>\n",
       "      <td>0.001</td>\n",
       "      <td>20</td>\n",
       "      <td>0.021544</td>\n",
       "      <td>-0.011384</td>\n",
       "      <td>0.002321</td>\n",
       "      <td>-0.001028</td>\n",
       "      <td>0.000592</td>\n",
       "    </tr>\n",
       "    <tr>\n",
       "      <th>13</th>\n",
       "      <td>0.01</td>\n",
       "      <td>(10, 10)</td>\n",
       "      <td>0.1</td>\n",
       "      <td>-0.011700</td>\n",
       "      <td>0.003251</td>\n",
       "      <td>-0.001897</td>\n",
       "      <td>0.000461</td>\n",
       "    </tr>\n",
       "  </tbody>\n",
       "</table>\n",
       "</div>"
      ],
      "text/plain": [
       "   param_modelo__learning_rate_init param_modelo__hidden_layer_sizes  \\\n",
       "47                             0.01                               20   \n",
       "19                            0.001                               20   \n",
       "37                             0.01                               20   \n",
       "14                             0.01                         (10, 10)   \n",
       "17                            0.001                         (10, 10)   \n",
       "20                            0.001                               10   \n",
       "9                              0.01                               10   \n",
       "2                              0.01                               20   \n",
       "42                            0.001                               20   \n",
       "13                             0.01                         (10, 10)   \n",
       "\n",
       "   param_modelo__alpha  mean_test_score  std_test_score  mean_train_score  \\\n",
       "47            0.004642        -0.008221        0.003922         -0.000079   \n",
       "19            0.004642        -0.008221        0.003922         -0.000079   \n",
       "37               0.001        -0.008539        0.002368         -0.001265   \n",
       "14            0.004642        -0.010120        0.005708         -0.002688   \n",
       "17            0.004642        -0.010120        0.005708         -0.002688   \n",
       "20            0.021544        -0.010434        0.003941         -0.001977   \n",
       "9             0.021544        -0.010434        0.003941         -0.001977   \n",
       "2             0.021544        -0.011384        0.002321         -0.001028   \n",
       "42            0.021544        -0.011384        0.002321         -0.001028   \n",
       "13                 0.1        -0.011700        0.003251         -0.001897   \n",
       "\n",
       "    std_train_score  \n",
       "47         0.000158  \n",
       "19         0.000158  \n",
       "37         0.000767  \n",
       "14         0.002038  \n",
       "17         0.002038  \n",
       "20         0.000433  \n",
       "9          0.000433  \n",
       "2          0.000592  \n",
       "42         0.000592  \n",
       "13         0.000461  "
      ]
     },
     "execution_count": 39,
     "metadata": {},
     "output_type": "execute_result"
    }
   ],
   "source": [
    "pipe = Pipeline([('modelo', MLPClassifier(activation='logistic',solver = 'lbfgs',random_state=123, max_iter= 1000))])\n",
    "# Espacio de búsqueda de cada hiperparámetro\n",
    "# ==============================================================================\n",
    "param_distributions = {\n",
    "    'modelo__hidden_layer_sizes': [(10), (20), (10, 10)],\n",
    "    'modelo__alpha': np.logspace(-3, 3, 10),\n",
    "    'modelo__learning_rate_init': [0.001, 0.01],\n",
    "}\n",
    "\n",
    "# Búsqueda por validación cruzada\n",
    "# ==============================================================================\n",
    "grid = RandomizedSearchCV(\n",
    "        estimator  = pipe,\n",
    "        param_distributions = param_distributions,\n",
    "        n_iter     = 50,\n",
    "        scoring    = 'neg_mean_squared_error',\n",
    "        n_jobs     = multiprocessing.cpu_count() - 1,\n",
    "        cv         = 5, \n",
    "        verbose    = 0,\n",
    "        random_state = 123,\n",
    "        return_train_score = True\n",
    "       )\n",
    "\n",
    "grid.fit(X = X, y = y)\n",
    "\n",
    "# Resultados del grid\n",
    "# ==============================================================================\n",
    "resultados = pd.DataFrame(grid.cv_results_)\n",
    "resultados.filter(regex = '(param.*|mean_t|std_t)')\\\n",
    "    .drop(columns = 'params')\\\n",
    "    .sort_values('mean_test_score', ascending = False)\\\n",
    "    .head(10)"
   ]
  },
  {
   "cell_type": "code",
   "execution_count": 40,
   "id": "d60a387b",
   "metadata": {},
   "outputs": [
    {
     "name": "stdout",
     "output_type": "stream",
     "text": [
      "Error de test (rmse):  0.11180339887498948\n"
     ]
    }
   ],
   "source": [
    "from sklearn.metrics import mean_squared_error\n",
    "# Error de test\n",
    "# ==============================================================================\n",
    "modelo_final = grid.best_estimator_\n",
    "predicciones = modelo_final.predict(X = df_Test)\n",
    "rmse = mean_squared_error(\n",
    "        y_true = Y_test,\n",
    "        y_pred = predicciones,\n",
    "        squared = False\n",
    "       )\n",
    "print('Error de test (rmse): ', rmse)"
   ]
  },
  {
   "cell_type": "code",
   "execution_count": 41,
   "id": "e7a15a2c",
   "metadata": {},
   "outputs": [
    {
     "data": {
      "text/plain": [
       "{'activation': 'logistic',\n",
       " 'alpha': 0.004641588833612777,\n",
       " 'batch_size': 'auto',\n",
       " 'beta_1': 0.9,\n",
       " 'beta_2': 0.999,\n",
       " 'early_stopping': False,\n",
       " 'epsilon': 1e-08,\n",
       " 'hidden_layer_sizes': 20,\n",
       " 'learning_rate': 'constant',\n",
       " 'learning_rate_init': 0.001,\n",
       " 'max_fun': 15000,\n",
       " 'max_iter': 1000,\n",
       " 'momentum': 0.9,\n",
       " 'n_iter_no_change': 10,\n",
       " 'nesterovs_momentum': True,\n",
       " 'power_t': 0.5,\n",
       " 'random_state': 123,\n",
       " 'shuffle': True,\n",
       " 'solver': 'lbfgs',\n",
       " 'tol': 0.0001,\n",
       " 'validation_fraction': 0.1,\n",
       " 'verbose': False,\n",
       " 'warm_start': False}"
      ]
     },
     "execution_count": 41,
     "metadata": {},
     "output_type": "execute_result"
    }
   ],
   "source": [
    "modelo_final['modelo'].get_params()"
   ]
  },
  {
   "cell_type": "code",
   "execution_count": 42,
   "id": "c16de91b",
   "metadata": {},
   "outputs": [
    {
     "name": "stdout",
     "output_type": "stream",
     "text": [
      "Training Accuracy:  1.0\n",
      "Testing Accuracy:  0.9875\n",
      "[[394   3]\n",
      " [  2   1]]\n",
      "              precision    recall  f1-score   support\n",
      "\n",
      "           0       0.99      0.99      0.99       397\n",
      "           1       0.25      0.33      0.29         3\n",
      "\n",
      "    accuracy                           0.99       400\n",
      "   macro avg       0.62      0.66      0.64       400\n",
      "weighted avg       0.99      0.99      0.99       400\n",
      "\n"
     ]
    },
    {
     "data": {
      "text/plain": [
       "0.6628883291351805"
      ]
     },
     "execution_count": 42,
     "metadata": {},
     "output_type": "execute_result"
    }
   ],
   "source": [
    "y_pred = modelo_final.predict(df_Test)\n",
    "print_eval(y_pred,modelo_final)\n",
    "roc_auc_score(Y_test, y_pred)"
   ]
  },
  {
   "cell_type": "markdown",
   "id": "d96e2756",
   "metadata": {},
   "source": [
    "Se puede apreciar que a pesar de balancear la muestra el modelo está sesgado o sobreajustado."
   ]
  },
  {
   "cell_type": "code",
   "execution_count": null,
   "id": "39ff0de9",
   "metadata": {},
   "outputs": [],
   "source": []
  }
 ],
 "metadata": {
  "kernelspec": {
   "display_name": "Python 3 (ipykernel)",
   "language": "python",
   "name": "python3"
  },
  "language_info": {
   "codemirror_mode": {
    "name": "ipython",
    "version": 3
   },
   "file_extension": ".py",
   "mimetype": "text/x-python",
   "name": "python",
   "nbconvert_exporter": "python",
   "pygments_lexer": "ipython3",
   "version": "3.9.13"
  }
 },
 "nbformat": 4,
 "nbformat_minor": 5
}
